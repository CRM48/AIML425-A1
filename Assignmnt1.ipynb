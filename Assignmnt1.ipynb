{
  "nbformat": 4,
  "nbformat_minor": 0,
  "metadata": {
    "colab": {
      "provenance": [],
      "authorship_tag": "ABX9TyNBs4yRTdkaWOQ02hORyNrE",
      "include_colab_link": true
    },
    "kernelspec": {
      "name": "python3",
      "display_name": "Python 3"
    },
    "language_info": {
      "name": "python"
    }
  },
  "cells": [
    {
      "cell_type": "markdown",
      "metadata": {
        "id": "view-in-github",
        "colab_type": "text"
      },
      "source": [
        "<a href=\"https://colab.research.google.com/github/CRM48/AIML425-A1/blob/main/Assignmnt1.ipynb\" target=\"_parent\"><img src=\"https://colab.research.google.com/assets/colab-badge.svg\" alt=\"Open In Colab\"/></a>"
      ]
    },
    {
      "cell_type": "code",
      "execution_count": 30,
      "metadata": {
        "colab": {
          "base_uri": "https://localhost:8080/",
          "height": 176
        },
        "id": "2vfGdJjlBe9T",
        "outputId": "a6d8de7a-1ad7-4841-b827-8ee48ac8ad04"
      },
      "outputs": [
        {
          "output_type": "stream",
          "name": "stdout",
          "text": [
            "Ratio error in data splitting\n"
          ]
        },
        {
          "output_type": "error",
          "ename": "SystemExit",
          "evalue": "1",
          "traceback": [
            "An exception has occurred, use %tb to see the full traceback.\n",
            "\u001b[0;31mSystemExit\u001b[0m\u001b[0;31m:\u001b[0m 1\n"
          ]
        },
        {
          "output_type": "stream",
          "name": "stderr",
          "text": [
            "/usr/local/lib/python3.11/dist-packages/IPython/core/interactiveshell.py:3561: UserWarning:\n",
            "\n",
            "To exit: use 'exit', 'quit', or Ctrl-D.\n",
            "\n"
          ]
        }
      ],
      "source": [
        "import sys\n",
        "import numpy as np\n",
        "import plotly.graph_objects as go\n",
        "\n",
        "# Variables\n",
        "seed = 2\n",
        "num_inputs = 5\n",
        "num_epochs = 1000\n",
        "\n",
        "train_percent = 0.7\n",
        "validation_percent = 0.15\n",
        "test_percent = 0.15\n",
        "\n",
        "# Check ratio validity\n",
        "if ((train_percent + validation_percent + test_percent) != 1.0):\n",
        "    print(\"Ratio error in data splitting\")\n",
        "    sys.exit(1)\n",
        "\n",
        "# Generate Data\n",
        "np.random.seed(seed)\n",
        "x = np.random.normal(0, 1, (num_inputs, 3))\n",
        "norms = np.sqrt(np.sum(np.square(x), axis=1, keepdims=True))\n",
        "y = x / norms\n",
        "\n",
        "# Split Data\n",
        "\n",
        "\n",
        "\n",
        "print(\"Input x:\")\n",
        "print(x)\n",
        "\n",
        "print(\"Target y (on unit sphere):\")\n",
        "print(y)\n",
        "\n",
        "print(\"Target norms\")\n",
        "print(norms)\n",
        "\n",
        "\"\"\"\n",
        "\n",
        "\n",
        "fig = go.Figure()\n",
        "\n",
        "# Add normalized y points in blue\n",
        "fig.add_trace(go.Scatter3d(\n",
        "    x=y[:, 0], y=y[:, 1], z=y[:, 2],\n",
        "    mode='markers',\n",
        "    marker=dict(size=3, color='blue'),\n",
        "    name='Normalized y'\n",
        "))\n",
        "\n",
        "fig.update_layout(\n",
        "    title=\"Original Points (red) and Normalized Points on Unit Sphere (blue)\",\n",
        "    scene=dict(\n",
        "        xaxis_title='X',\n",
        "        yaxis_title='Y',\n",
        "        zaxis_title='Z',\n",
        "        aspectmode='data'\n",
        "    )\n",
        ")\n",
        "\n",
        "fig.show()\n",
        "\"\"\""
      ]
    }
  ]
}