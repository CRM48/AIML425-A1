{
  "nbformat": 4,
  "nbformat_minor": 0,
  "metadata": {
    "colab": {
      "provenance": [],
      "authorship_tag": "ABX9TyMAoz/JEqo8pn3ivaP36kUH",
      "include_colab_link": true
    },
    "kernelspec": {
      "name": "python3",
      "display_name": "Python 3"
    },
    "language_info": {
      "name": "python"
    }
  },
  "cells": [
    {
      "cell_type": "markdown",
      "metadata": {
        "id": "view-in-github",
        "colab_type": "text"
      },
      "source": [
        "<a href=\"https://colab.research.google.com/github/CRM48/AIML425-A1/blob/main/Assignmnt1.ipynb\" target=\"_parent\"><img src=\"https://colab.research.google.com/assets/colab-badge.svg\" alt=\"Open In Colab\"/></a>"
      ]
    },
    {
      "cell_type": "code",
      "execution_count": 11,
      "metadata": {
        "colab": {
          "base_uri": "https://localhost:8080/"
        },
        "id": "2vfGdJjlBe9T",
        "outputId": "892ad440-2561-48ef-9b56-8a7a9700a6ef"
      },
      "outputs": [
        {
          "output_type": "stream",
          "name": "stdout",
          "text": [
            "10000\n"
          ]
        }
      ],
      "source": [
        "import sys\n",
        "import numpy as np\n",
        "import plotly.graph_objects as go\n",
        "import torch\n",
        "from torch import nn\n",
        "\n",
        "# Variables\n",
        "seed = 1\n",
        "num_inputs = 10000\n",
        "num_epochs = 1000\n",
        "\n",
        "train_percent = 0.7\n",
        "validation_percent = 0.15\n",
        "test_percent = 0.15\n",
        "\n",
        "# Check ratio validity\n",
        "if ((train_percent + validation_percent + test_percent) != 1.0):\n",
        "    print(\"Ratio error in data splitting\")\n",
        "    sys.exit(1)\n",
        "\n",
        "# Generate Data\n",
        "np.random.seed(seed)\n",
        "x = np.random.normal(0, 1, (num_inputs, 3))\n",
        "norms = np.sqrt(np.sum(np.square(x), axis=1, keepdims=True))\n",
        "y = x / norms\n",
        "\n",
        "# Split Data\n",
        "num_samples = x.shape[0]\n",
        "num_train = int(train_percent * num_samples)\n",
        "num_validation = int(validation_percent * num_samples)\n",
        "num_test = int(test_percent * num_samples)\n",
        "\n",
        "x_train = x[:num_train]\n",
        "y_train = y[:num_train]\n",
        "\n",
        "x_validation = x[num_train:num_train+num_validation]\n",
        "y_validation = y[num_train:num_train+num_validation]\n",
        "\n",
        "x_test = x[num_train+num_validation:]\n",
        "y_test = y[num_train+num_validation:]\n",
        "\n",
        "# 3D Plot\n",
        "fig = go.Figure()\n",
        "\n",
        "# Add training data output\n",
        "fig.add_trace(go.Scatter3d(\n",
        "    x=y_train[:, 0], y=y_train[:, 1], z=y_train[:, 2],\n",
        "    mode='markers',\n",
        "    marker=dict(size=3, color='blue'),\n",
        "    name='Normalized y'\n",
        "))\n",
        "\n",
        "fig.update_layout(\n",
        "    title=\"Input data normalised so length from origin = 1\",\n",
        "    scene=dict(xaxis_title='X', yaxis_title='Y', zaxis_title='Z', aspectmode='data')\n",
        ")\n",
        "\n",
        "#fig.show()\n",
        "\n",
        "# The Model\n",
        "class NNModel(nn.Module):\n",
        "  def __init__(self):\n",
        "     super(NNModel).__init__()\n",
        "     self.net = nn.Sequential(\n",
        "         nn.Linear(3, 20),\n",
        "         nn.ReLU(),\n",
        "         nn.Linear(20, 20),\n",
        "         nn.ReLU(),\n",
        "         nn.Linear(20, 3)\n",
        "     )\n",
        "\n",
        "  def forward(self, x):\n",
        "    return self.net(x)\n",
        "\n",
        "\n"
      ]
    }
  ]
}