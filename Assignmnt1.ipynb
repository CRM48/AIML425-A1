{
  "nbformat": 4,
  "nbformat_minor": 0,
  "metadata": {
    "colab": {
      "provenance": [],
      "authorship_tag": "ABX9TyPgyVBth4+FRdtPTpkDcp0x",
      "include_colab_link": true
    },
    "kernelspec": {
      "name": "python3",
      "display_name": "Python 3"
    },
    "language_info": {
      "name": "python"
    }
  },
  "cells": [
    {
      "cell_type": "markdown",
      "metadata": {
        "id": "view-in-github",
        "colab_type": "text"
      },
      "source": [
        "<a href=\"https://colab.research.google.com/github/CRM48/AIML425-A1/blob/main/Assignmnt1.ipynb\" target=\"_parent\"><img src=\"https://colab.research.google.com/assets/colab-badge.svg\" alt=\"Open In Colab\"/></a>"
      ]
    },
    {
      "cell_type": "code",
      "execution_count": 4,
      "metadata": {
        "colab": {
          "base_uri": "https://localhost:8080/",
          "height": 434
        },
        "id": "2vfGdJjlBe9T",
        "outputId": "4c51f093-4ed5-489d-9b3c-c2bc27ba0a13"
      },
      "outputs": [
        {
          "output_type": "stream",
          "name": "stdout",
          "text": [
            "Input x:\n",
            "[[ 0.05056171  0.49995133 -0.99590893]\n",
            " [ 0.69359851 -0.41830152 -1.58457724]\n",
            " [-0.64770677  0.59857517  0.33225003]\n",
            " [-1.14747663  0.61866969 -0.08798693]\n",
            " [ 0.4250724   0.33225315 -1.15681626]]\n",
            "Target y (on unit sphere):\n",
            "[[ 0.04532646  0.44818547 -0.89279073]\n",
            " [ 0.38975189 -0.23505501 -0.8904171 ]\n",
            " [-0.68726067  0.63512873  0.35253975]\n",
            " [-0.87821751  0.47349684 -0.06734051]\n",
            " [ 0.33301365  0.26029644 -0.90628234]]\n",
            "Target norms\n",
            "[[1.11550097]\n",
            " [1.77958986]\n",
            " [0.94244702]\n",
            " [1.3065973 ]\n",
            " [1.27644136]]\n"
          ]
        },
        {
          "output_type": "execute_result",
          "data": {
            "text/plain": [
              "'\\n\\n\\nfig = go.Figure()\\n\\n# Add normalized y points in blue\\nfig.add_trace(go.Scatter3d(\\n    x=y[:, 0], y=y[:, 1], z=y[:, 2],\\n    mode=\\'markers\\',\\n    marker=dict(size=3, color=\\'blue\\'),\\n    name=\\'Normalized y\\'\\n))\\n\\nfig.update_layout(\\n    title=\"Original Points (red) and Normalized Points on Unit Sphere (blue)\",\\n    scene=dict(\\n        xaxis_title=\\'X\\',\\n        yaxis_title=\\'Y\\',\\n        zaxis_title=\\'Z\\',\\n        aspectmode=\\'data\\'\\n    )\\n)\\n\\nfig.show()\\n'"
            ],
            "application/vnd.google.colaboratory.intrinsic+json": {
              "type": "string"
            }
          },
          "metadata": {},
          "execution_count": 4
        }
      ],
      "source": [
        "import sys\n",
        "import numpy as np\n",
        "import plotly.graph_objects as go\n",
        "\n",
        "# Variables\n",
        "seed = 1\n",
        "num_inputs = 5\n",
        "num_epochs = 1000\n",
        "\n",
        "train_percent = 0.7\n",
        "validation_percent = 0.15\n",
        "test_percent = 0.15\n",
        "\n",
        "# Check ratio validity\n",
        "if ((train_percent + validation_percent + test_percent) != 1.0):\n",
        "    print(\"Ratio error in data splitting\")\n",
        "    sys.exit(1)\n",
        "\n",
        "# Generate Data\n",
        "np.random.seed(seed)\n",
        "x = np.random.normal(0, 1, (num_inputs, 3))\n",
        "norms = np.sqrt(np.sum(np.square(x), axis=1, keepdims=True))\n",
        "y = x / norms\n",
        "\n",
        "# Split Data\n",
        "num_samples = x.shape[0]\n",
        "num_train = int(train_percent * num_samples)\n",
        "num_validation = int(validation_percent * num_samples)\n",
        "\n",
        "x_train = x[:num_train]\n",
        "y_train = y[:num_train]\n",
        "\n",
        "x_validation = x[num_train:num_train+num_validation]\n",
        "y_validation = y[num_train:num_train+num_validation]\n",
        "\n",
        "x_test = x[num_train+num_validation:]\n",
        "y_test = y[num_train+num_validation:]\n",
        "\n",
        "\n",
        "print(\"Input x:\")\n",
        "print(x)\n",
        "\n",
        "print(\"Target y (on unit sphere):\")\n",
        "print(y)\n",
        "\n",
        "print(\"Target norms\")\n",
        "print(norms)\n",
        "\n",
        "\"\"\"\n",
        "\n",
        "\n",
        "fig = go.Figure()\n",
        "\n",
        "# Add normalized y points in blue\n",
        "fig.add_trace(go.Scatter3d(\n",
        "    x=y[:, 0], y=y[:, 1], z=y[:, 2],\n",
        "    mode='markers',\n",
        "    marker=dict(size=3, color='blue'),\n",
        "    name='Normalized y'\n",
        "))\n",
        "\n",
        "fig.update_layout(\n",
        "    title=\"Original Points (red) and Normalized Points on Unit Sphere (blue)\",\n",
        "    scene=dict(\n",
        "        xaxis_title='X',\n",
        "        yaxis_title='Y',\n",
        "        zaxis_title='Z',\n",
        "        aspectmode='data'\n",
        "    )\n",
        ")\n",
        "\n",
        "fig.show()\n",
        "\"\"\""
      ]
    }
  ]
}